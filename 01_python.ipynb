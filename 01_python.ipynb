{
 "cells": [
  {
   "cell_type": "markdown",
   "metadata": {},
   "source": [
    "# Complete Python Programming Guide for Beginners\n",
    "## From Zero to Hero - Part 1\n",
    "\n",
    "Welcome to your Python learning journey! This notebook will take you from complete beginner to confident Python programmer.\n",
    "\n",
    "**How to use this notebook:**\n",
    "1. Read each explanation carefully\n",
    "2. Run the code cells (Shift + Enter)\n",
    "3. Try modifying the code to experiment\n",
    "4. Complete the exercises at the end of each section\n",
    "\n",
    "---"
   ]
  },
  {
   "cell_type": "markdown",
   "metadata": {},
   "source": [
    "## Chapter 1: Getting Started - Your First Python Code\n",
    "\n",
    "### 1.1 Hello World - The Traditional First Program\n",
    "\n",
    "Every programmer starts here! The `print()` function displays text on the screen."
   ]
  },
  {
   "cell_type": "code",
   "execution_count": null,
   "metadata": {},
   "outputs": [],
   "source": [
    "# This is a comment - Python ignores this line\n",
    "# Use comments to explain your code\n",
    "\n",
    "print(\"Hello, World!\")  # This displays text\n",
    "print(\"Welcome to Python Programming!\")"
   ]
  },
  {
   "cell_type": "markdown",
   "metadata": {},
   "source": [
    "### 1.2 Variables - Storing Information\n",
    "\n",
    "Variables are like labeled boxes that store data. You can name them almost anything (but use descriptive names!)."
   ]
  },
  {
   "cell_type": "code",
   "execution_count": null,
   "metadata": {},
   "outputs": [],
   "source": [
    "# Creating variables\n",
    "name = \"Alice\"           # Text (string)\n",
    "age = 25                 # Whole number (integer)\n",
    "height = 5.6            # Decimal number (float)\n",
    "is_student = True       # True/False value (boolean)\n",
    "\n",
    "# Using variables\n",
    "print(\"Name:\", name)\n",
    "print(\"Age:\", age)\n",
    "print(\"Height:\", height, \"feet\")\n",
    "print(\"Is student?\", is_student)"
   ]
  },
  {
   "cell_type": "markdown",
   "metadata": {},
   "source": [
    "### 1.3 Basic Data Types\n",
    "\n",
    "Python has several built-in data types. Let's explore the most common ones."
   ]
  },
  {
   "cell_type": "code",
   "execution_count": null,
   "metadata": {},
   "outputs": [],
   "source": [
    "# Integers (whole numbers)\n",
    "students = 30\n",
    "temperature = -5\n",
    "\n",
    "# Floats (decimal numbers)\n",
    "price = 19.99\n",
    "pi = 3.14159\n",
    "\n",
    "# Strings (text)\n",
    "greeting = \"Hello\"\n",
    "message = 'Python is awesome!'  # Single or double quotes work\n",
    "\n",
    "# Booleans (True or False)\n",
    "is_raining = False\n",
    "has_license = True\n",
    "\n",
    "# Check the type of a variable\n",
    "print(type(students))    # <class 'int'>\n",
    "print(type(price))       # <class 'float'>\n",
    "print(type(greeting))    # <class 'str'>\n",
    "print(type(is_raining))  # <class 'bool'>"
   ]
  },
  {
   "cell_type": "markdown",
   "metadata": {},
   "source": [
    "### 1.4 Practice Exercises\n",
    "\n",
    "Try these exercises to reinforce what you've learned!"
   ]
  },
  {
   "cell_type": "code",
   "execution_count": null,
   "metadata": {},
   "outputs": [],
   "source": [
    "# Exercise 1: Create variables for your own information\n",
    "# TODO: Create variables for your name, age, and favorite hobby\n",
    "\n",
    "# Exercise 2: Print a greeting message using your variables\n",
    "# TODO: Print something like \"Hi, my name is [name] and I'm [age] years old\"\n",
    "\n",
    "# Exercise 3: Check the types of your variables\n",
    "# TODO: Use type() to check each variable's type"
   ]
  },
  {
   "cell_type": "markdown",
   "metadata": {},
   "source": [
    "---\n",
    "\n",
    "## 🎉 Congratulations!\n",
    "\n",
    "You've completed Part 1 of the Python learning guide. You now know:\n",
    "- How to print output\n",
    "- How to create and use variables\n",
    "- The basic data types in Python\n",
    "\n",
    "**Next topics to learn:**\n",
    "- Chapter 2: Working with Numbers (arithmetic operations)\n",
    "- Chapter 3: Working with Strings (text manipulation)\n",
    "- Chapter 4: Getting User Input\n",
    "- And much more!\n",
    "\n",
    "Ask for the next chapter when you're ready!"
   ]
  }
 ],
 "metadata": {
  "kernelspec": {
   "display_name": "Python 3",
   "language": "python",
   "name": "python3"
  },
  "language_info": {
   "codemirror_mode": {
    "name": "ipython",
    "version": 3
   },
   "file_extension": ".py",
   "mimetype": "text/x-python",
   "name": "python",
   "nbconvert_exporter": "python",
   "pygments_lexer": "ipython3",
   "version": "3.8.0"
  }
 },
 "nbformat": 4,
 "nbformat_minor": 4
}